{
  "nbformat": 4,
  "nbformat_minor": 0,
  "metadata": {
    "colab": {
      "name": "time_series-forecasting.ipynb",
      "provenance": [],
      "collapsed_sections": [],
      "mount_file_id": "1GlwKnWEdsp9DzZ7ClH8D11MYyDm_HbJj",
      "authorship_tag": "ABX9TyMCWIfr6EwWdvyd7YTpe2B3",
      "include_colab_link": true
    },
    "kernelspec": {
      "name": "python3",
      "display_name": "Python 3"
    },
    "accelerator": "GPU"
  },
  "cells": [
    {
      "cell_type": "markdown",
      "metadata": {
        "id": "view-in-github",
        "colab_type": "text"
      },
      "source": [
        "<a href=\"https://colab.research.google.com/github/jtwang1027/business_analysis/blob/master/time_series_forecasting.ipynb\" target=\"_parent\"><img src=\"https://colab.research.google.com/assets/colab-badge.svg\" alt=\"Open In Colab\"/></a>"
      ]
    },
    {
      "cell_type": "markdown",
      "metadata": {
        "id": "jrqCP6Lps3ws",
        "colab_type": "text"
      },
      "source": [
        "# Loading packages and Ingesting data"
      ]
    },
    {
      "cell_type": "code",
      "metadata": {
        "id": "oIi0RbNLt8IF",
        "colab_type": "code",
        "outputId": "5970c67b-888d-4d16-84b4-4efcaf2d521b",
        "colab": {
          "base_uri": "https://localhost:8080/",
          "height": 50
        }
      },
      "source": [
        "from __future__ import absolute_import, division, print_function, unicode_literals\n",
        "\n",
        "import collections\n",
        "import matplotlib.pyplot as plt\n",
        "import numpy as np\n",
        "\n",
        "try:\n",
        "  # %tensorflow_version only exists in Colab.\n",
        "  %tensorflow_version 2.x\n",
        "except Exception:\n",
        "  pass\n",
        "import tensorflow as tf\n",
        "import seaborn as sns\n",
        "\n",
        "from keras.callbacks import EarlyStopping\n",
        "import pandas as pd\n",
        "\n",
        "from tensorflow.keras import layers"
      ],
      "execution_count": 1,
      "outputs": [
        {
          "output_type": "stream",
          "text": [
            "TensorFlow 2.x selected.\n"
          ],
          "name": "stdout"
        },
        {
          "output_type": "stream",
          "text": [
            "Using TensorFlow backend.\n"
          ],
          "name": "stderr"
        }
      ]
    },
    {
      "cell_type": "code",
      "metadata": {
        "id": "HKr5W50Mw7wO",
        "colab_type": "code",
        "colab": {}
      },
      "source": [
        "\n",
        "data1=pd.read_csv('/content/drive/My Drive/feb_2020-dataset.csv')\n",
        "\n",
        "#data1=data1.iloc[:4450,] #rounds it out and makes it easier to create sequences"
      ],
      "execution_count": 0,
      "outputs": []
    },
    {
      "cell_type": "code",
      "metadata": {
        "id": "hOyfInYMwoEf",
        "colab_type": "code",
        "colab": {}
      },
      "source": [
        "data1['full_date']=data1.Year.astype('str')+'-'+data1.Month.astype('str')+'-'+data1.date.astype('str')"
      ],
      "execution_count": 0,
      "outputs": []
    },
    {
      "cell_type": "code",
      "metadata": {
        "id": "6vNJo-9qw9r2",
        "colab_type": "code",
        "colab": {}
      },
      "source": [
        "temp=pd.to_datetime(data1.full_date) #this is just to coerce the unpadded month to datetime"
      ],
      "execution_count": 0,
      "outputs": []
    },
    {
      "cell_type": "code",
      "metadata": {
        "id": "SuDyOvyCyIdB",
        "colab_type": "code",
        "colab": {}
      },
      "source": [
        "data1.full_date=pd.to_datetime(temp.dt.strftime('%Y-%m-%d') + '-' +data1.Hour.astype('str'), format='%Y-%m-%d-%H') #recombine date with hour (time)"
      ],
      "execution_count": 0,
      "outputs": []
    },
    {
      "cell_type": "code",
      "metadata": {
        "id": "GRu_YJRLTVeD",
        "colab_type": "code",
        "colab": {}
      },
      "source": [
        "#set date to index\n",
        "data1.full_date=pd.to_datetime(data1.full_date)\n",
        "data1.set_index('full_date',inplace=True)\n",
        "#drop month/date/year split columns\n",
        "data1.drop(['Month','date','Year','Hour'],axis=1, inplace=True)"
      ],
      "execution_count": 0,
      "outputs": []
    },
    {
      "cell_type": "code",
      "metadata": {
        "id": "Yo0phfVbxhSL",
        "colab_type": "code",
        "outputId": "203024a5-6d09-40fa-f643-35ed552feb56",
        "colab": {
          "base_uri": "https://localhost:8080/",
          "height": 227
        }
      },
      "source": [
        "data1.head()"
      ],
      "execution_count": 7,
      "outputs": [
        {
          "output_type": "execute_result",
          "data": {
            "text/html": [
              "<div>\n",
              "<style scoped>\n",
              "    .dataframe tbody tr th:only-of-type {\n",
              "        vertical-align: middle;\n",
              "    }\n",
              "\n",
              "    .dataframe tbody tr th {\n",
              "        vertical-align: top;\n",
              "    }\n",
              "\n",
              "    .dataframe thead th {\n",
              "        text-align: right;\n",
              "    }\n",
              "</style>\n",
              "<table border=\"1\" class=\"dataframe\">\n",
              "  <thead>\n",
              "    <tr style=\"text-align: right;\">\n",
              "      <th></th>\n",
              "      <th>Gross Sales</th>\n",
              "      <th>Friday</th>\n",
              "      <th>Monday</th>\n",
              "      <th>Saturday</th>\n",
              "      <th>Sunday</th>\n",
              "      <th>Thursday</th>\n",
              "      <th>Tuesday</th>\n",
              "      <th>Wednesday</th>\n",
              "    </tr>\n",
              "    <tr>\n",
              "      <th>full_date</th>\n",
              "      <th></th>\n",
              "      <th></th>\n",
              "      <th></th>\n",
              "      <th></th>\n",
              "      <th></th>\n",
              "      <th></th>\n",
              "      <th></th>\n",
              "      <th></th>\n",
              "    </tr>\n",
              "  </thead>\n",
              "  <tbody>\n",
              "    <tr>\n",
              "      <th>2019-01-03 11:00:00</th>\n",
              "      <td>8.78</td>\n",
              "      <td>0</td>\n",
              "      <td>0</td>\n",
              "      <td>0</td>\n",
              "      <td>0</td>\n",
              "      <td>1</td>\n",
              "      <td>0</td>\n",
              "      <td>0</td>\n",
              "    </tr>\n",
              "    <tr>\n",
              "      <th>2019-01-03 12:00:00</th>\n",
              "      <td>96.74</td>\n",
              "      <td>0</td>\n",
              "      <td>0</td>\n",
              "      <td>0</td>\n",
              "      <td>0</td>\n",
              "      <td>1</td>\n",
              "      <td>0</td>\n",
              "      <td>0</td>\n",
              "    </tr>\n",
              "    <tr>\n",
              "      <th>2019-01-03 13:00:00</th>\n",
              "      <td>48.41</td>\n",
              "      <td>0</td>\n",
              "      <td>0</td>\n",
              "      <td>0</td>\n",
              "      <td>0</td>\n",
              "      <td>1</td>\n",
              "      <td>0</td>\n",
              "      <td>0</td>\n",
              "    </tr>\n",
              "    <tr>\n",
              "      <th>2019-01-03 14:00:00</th>\n",
              "      <td>79.26</td>\n",
              "      <td>0</td>\n",
              "      <td>0</td>\n",
              "      <td>0</td>\n",
              "      <td>0</td>\n",
              "      <td>1</td>\n",
              "      <td>0</td>\n",
              "      <td>0</td>\n",
              "    </tr>\n",
              "    <tr>\n",
              "      <th>2019-01-03 15:00:00</th>\n",
              "      <td>73.65</td>\n",
              "      <td>0</td>\n",
              "      <td>0</td>\n",
              "      <td>0</td>\n",
              "      <td>0</td>\n",
              "      <td>1</td>\n",
              "      <td>0</td>\n",
              "      <td>0</td>\n",
              "    </tr>\n",
              "  </tbody>\n",
              "</table>\n",
              "</div>"
            ],
            "text/plain": [
              "                     Gross Sales  Friday  Monday  ...  Thursday  Tuesday  Wednesday\n",
              "full_date                                         ...                              \n",
              "2019-01-03 11:00:00         8.78       0       0  ...         1        0          0\n",
              "2019-01-03 12:00:00        96.74       0       0  ...         1        0          0\n",
              "2019-01-03 13:00:00        48.41       0       0  ...         1        0          0\n",
              "2019-01-03 14:00:00        79.26       0       0  ...         1        0          0\n",
              "2019-01-03 15:00:00        73.65       0       0  ...         1        0          0\n",
              "\n",
              "[5 rows x 8 columns]"
            ]
          },
          "metadata": {
            "tags": []
          },
          "execution_count": 7
        }
      ]
    },
    {
      "cell_type": "code",
      "metadata": {
        "id": "CB30V9MIzWLN",
        "colab_type": "code",
        "outputId": "c0d79817-6afb-4e8a-b83d-a3e5a48a7567",
        "colab": {
          "base_uri": "https://localhost:8080/",
          "height": 227
        }
      },
      "source": [
        "#if we want to examine rows from 2019, we can use this partial string\n",
        "data1.loc['2019'].sample(5)"
      ],
      "execution_count": 8,
      "outputs": [
        {
          "output_type": "execute_result",
          "data": {
            "text/html": [
              "<div>\n",
              "<style scoped>\n",
              "    .dataframe tbody tr th:only-of-type {\n",
              "        vertical-align: middle;\n",
              "    }\n",
              "\n",
              "    .dataframe tbody tr th {\n",
              "        vertical-align: top;\n",
              "    }\n",
              "\n",
              "    .dataframe thead th {\n",
              "        text-align: right;\n",
              "    }\n",
              "</style>\n",
              "<table border=\"1\" class=\"dataframe\">\n",
              "  <thead>\n",
              "    <tr style=\"text-align: right;\">\n",
              "      <th></th>\n",
              "      <th>Gross Sales</th>\n",
              "      <th>Friday</th>\n",
              "      <th>Monday</th>\n",
              "      <th>Saturday</th>\n",
              "      <th>Sunday</th>\n",
              "      <th>Thursday</th>\n",
              "      <th>Tuesday</th>\n",
              "      <th>Wednesday</th>\n",
              "    </tr>\n",
              "    <tr>\n",
              "      <th>full_date</th>\n",
              "      <th></th>\n",
              "      <th></th>\n",
              "      <th></th>\n",
              "      <th></th>\n",
              "      <th></th>\n",
              "      <th></th>\n",
              "      <th></th>\n",
              "      <th></th>\n",
              "    </tr>\n",
              "  </thead>\n",
              "  <tbody>\n",
              "    <tr>\n",
              "      <th>2019-08-13 11:00:00</th>\n",
              "      <td>18.49</td>\n",
              "      <td>0</td>\n",
              "      <td>0</td>\n",
              "      <td>0</td>\n",
              "      <td>0</td>\n",
              "      <td>0</td>\n",
              "      <td>1</td>\n",
              "      <td>0</td>\n",
              "    </tr>\n",
              "    <tr>\n",
              "      <th>2019-07-22 12:00:00</th>\n",
              "      <td>118.99</td>\n",
              "      <td>0</td>\n",
              "      <td>1</td>\n",
              "      <td>0</td>\n",
              "      <td>0</td>\n",
              "      <td>0</td>\n",
              "      <td>0</td>\n",
              "      <td>0</td>\n",
              "    </tr>\n",
              "    <tr>\n",
              "      <th>2019-08-24 15:00:00</th>\n",
              "      <td>144.36</td>\n",
              "      <td>0</td>\n",
              "      <td>0</td>\n",
              "      <td>1</td>\n",
              "      <td>0</td>\n",
              "      <td>0</td>\n",
              "      <td>0</td>\n",
              "      <td>0</td>\n",
              "    </tr>\n",
              "    <tr>\n",
              "      <th>2019-05-06 23:00:00</th>\n",
              "      <td>14.64</td>\n",
              "      <td>0</td>\n",
              "      <td>1</td>\n",
              "      <td>0</td>\n",
              "      <td>0</td>\n",
              "      <td>0</td>\n",
              "      <td>0</td>\n",
              "      <td>0</td>\n",
              "    </tr>\n",
              "    <tr>\n",
              "      <th>2019-04-07 21:00:00</th>\n",
              "      <td>39.84</td>\n",
              "      <td>0</td>\n",
              "      <td>0</td>\n",
              "      <td>0</td>\n",
              "      <td>1</td>\n",
              "      <td>0</td>\n",
              "      <td>0</td>\n",
              "      <td>0</td>\n",
              "    </tr>\n",
              "  </tbody>\n",
              "</table>\n",
              "</div>"
            ],
            "text/plain": [
              "                     Gross Sales  Friday  Monday  ...  Thursday  Tuesday  Wednesday\n",
              "full_date                                         ...                              \n",
              "2019-08-13 11:00:00        18.49       0       0  ...         0        1          0\n",
              "2019-07-22 12:00:00       118.99       0       1  ...         0        0          0\n",
              "2019-08-24 15:00:00       144.36       0       0  ...         0        0          0\n",
              "2019-05-06 23:00:00        14.64       0       1  ...         0        0          0\n",
              "2019-04-07 21:00:00        39.84       0       0  ...         0        0          0\n",
              "\n",
              "[5 rows x 8 columns]"
            ]
          },
          "metadata": {
            "tags": []
          },
          "execution_count": 8
        }
      ]
    },
    {
      "cell_type": "markdown",
      "metadata": {
        "id": "uATA4bPZtAZb",
        "colab_type": "text"
      },
      "source": [
        "# Data visualization and summary"
      ]
    },
    {
      "cell_type": "code",
      "metadata": {
        "id": "yMV7IEmSzkB0",
        "colab_type": "code",
        "outputId": "1b9b9292-250c-4a0d-df45-3f68a9117797",
        "colab": {
          "base_uri": "https://localhost:8080/",
          "height": 311
        }
      },
      "source": [
        "#the raw data can be difficult to interpret\n",
        "data1.loc['2019-05-01','Gross Sales'].plot(linestyle='-')\n",
        "plt.title('Gross Sales from 1 example day 2019')\n",
        "plt.ylabel('Gross Sales')\n",
        "plt.xlabel('Date')"
      ],
      "execution_count": 20,
      "outputs": [
        {
          "output_type": "execute_result",
          "data": {
            "text/plain": [
              "Text(0.5, 0, 'Date')"
            ]
          },
          "metadata": {
            "tags": []
          },
          "execution_count": 20
        },
        {
          "output_type": "display_data",
          "data": {
            "image/png": "[encoded data removed]",
            "text/plain": [
              "<Figure size 432x288 with 1 Axes>"
            ]
          },
          "metadata": {
            "tags": []
          }
        }
      ]
    },
    {
      "cell_type": "code",
      "metadata": {
        "id": "WcJBbKsk0tw1",
        "colab_type": "code",
        "outputId": "97e62cba-9eed-47a6-fa7a-f4ebc31d10d8",
        "colab": {
          "base_uri": "https://localhost:8080/",
          "height": 324
        }
      },
      "source": [
        "#it might be easier to see broad trends by downsampling into weeks\n",
        "weekly=data1.resample('W').sum()\n",
        "weekly.loc[:,'Gross Sales'].plot(linestyle='-') #weekly data\n",
        "weekly['Gross Sales'].rolling(4,win_type='triang').mean().plot() #rolling mean\n",
        "\n",
        "plt.title('Gross Sales From 2019-2020')\n",
        "plt.ylabel('Gross Sales')\n",
        "plt.xlabel('Date')\n",
        "\n",
        "plt.legend(['Weekly Sales','4 wk average'])"
      ],
      "execution_count": 18,
      "outputs": [
        {
          "output_type": "execute_result",
          "data": {
            "text/plain": [
              "<matplotlib.legend.Legend at 0x7fd76a219860>"
            ]
          },
          "metadata": {
            "tags": []
          },
          "execution_count": 18
        },
        {
          "output_type": "display_data",
          "data": {
            "image/png": "[encoded data removed]",
            "text/plain": [
              "<Figure size 432x288 with 1 Axes>"
            ]
          },
          "metadata": {
            "tags": []
          }
        }
      ]
    },
    {
      "cell_type": "markdown",
      "metadata": {
        "id": "AQhLg4gm1eYr",
        "colab_type": "text"
      },
      "source": [
        "From the data, we can see clear seasonality trends characterized by increased sales during the *Spring* months (March-May) with decreased sales during *Summer*, which is likely due to the college students going home. When the students return in the early fall, we see sales return upwards. As a result of the clear seasonality, we will test SARIMA (instead of ARIMA) in our forecasting model.\n",
        "\n",
        "We also see missing data in Dec and Jan when the business was closed."
      ]
    },
    {
      "cell_type": "markdown",
      "metadata": {
        "id": "7_ln0fqotTwD",
        "colab_type": "text"
      },
      "source": [
        "# Forecasting"
      ]
    },
    {
      "cell_type": "markdown",
      "metadata": {
        "id": "oppIvtNGtvzA",
        "colab_type": "text"
      },
      "source": [
        "Let's test different forecasting approaches. To generate a test set of data we need to build the model on past data and use it to predict the future. To prevent data leakage we will sklearn's *TimeSeriesSplit*"
      ]
    },
    {
      "cell_type": "code",
      "metadata": {
        "id": "rGTBgWip13KI",
        "colab_type": "code",
        "colab": {}
      },
      "source": [
        "#from statsmodels.tsa.arima_model import SARIMA\n",
        "from statsmodels.tsa.statespace.sarimax import SARIMAX\n",
        "\n",
        "from sklearn.model_selection import TimeSeriesSplit\n",
        "from sklearn.metrics import mean_squared_error\n"
      ],
      "execution_count": 0,
      "outputs": []
    },
    {
      "cell_type": "code",
      "metadata": {
        "id": "0MO615TVvia3",
        "colab_type": "code",
        "colab": {}
      },
      "source": [
        "#forecast on daily data\n",
        "daily=data1.resample('D').sum()\n",
        "y=daily['Gross Sales']\n",
        "X= daily.index"
      ],
      "execution_count": 0,
      "outputs": []
    },
    {
      "cell_type": "markdown",
      "metadata": {
        "id": "TMQ98pbZtcxu",
        "colab_type": "text"
      },
      "source": [
        "## ARIMA"
      ]
    },
    {
      "cell_type": "code",
      "metadata": {
        "id": "4Bm9ZiYTushi",
        "colab_type": "code",
        "colab": {}
      },
      "source": [
        "tscv= TimeSeriesSplit(n_splits=10)\n",
        "#print(tscv)"
      ],
      "execution_count": 0,
      "outputs": []
    },
    {
      "cell_type": "code",
      "metadata": {
        "id": "I7HDX6XNu-Hj",
        "colab_type": "code",
        "outputId": "729bd06d-22d1-4f52-f3b0-8d57e1d6a824",
        "colab": {
          "base_uri": "https://localhost:8080/",
          "height": 664
        }
      },
      "source": [
        "mse=[]\n",
        "for train_index, test_index in tscv.split(X):\n",
        "  '''train and test - index return row indices (not date indices)\n",
        "  \n",
        "  generate SARIMAX models for each and perform cross-validation, calculate MSE and generate visualizations '''\n",
        "  #generate training and testing data\n",
        "  #X_test = X[test_index]\n",
        "  #x data is not needed, datetime index is embedded in y value already\n",
        "\n",
        "  y_train, y_test = y[train_index], y[test_index]\n",
        "  \n",
        "  \n",
        "  #trian model\n",
        "  model = SARIMAX(y_train, order=(1, 1, 1), seasonal_order=(1,1,1,1))\n",
        "  model_sarimax = model.fit(disp=False)\n",
        "\n",
        "  #find MSE for the next n- days of predictions\n",
        "  n= 14 # number of days to forecast out\n",
        "  yhat=model_sarimax.forecast(n) #forecasting using sarimax model\n",
        "\n",
        "  mse.append(mean_squared_error(yhat, y_test[:n]))\n",
        "\n",
        "  y_test[:n].plot()\n",
        "  yhat.plot()\n",
        "  \n",
        "print(\"mean squared erro: \", mse)\n"
      ],
      "execution_count": 84,
      "outputs": [
        {
          "output_type": "stream",
          "text": [
            "/usr/local/lib/python3.6/dist-packages/statsmodels/tsa/base/tsa_model.py:165: ValueWarning: No frequency information was provided, so inferred frequency D will be used.\n",
            "  % freq, ValueWarning)\n",
            "/usr/local/lib/python3.6/dist-packages/statsmodels/tsa/base/tsa_model.py:165: ValueWarning: No frequency information was provided, so inferred frequency D will be used.\n",
            "  % freq, ValueWarning)\n",
            "/usr/local/lib/python3.6/dist-packages/statsmodels/tsa/base/tsa_model.py:165: ValueWarning: No frequency information was provided, so inferred frequency D will be used.\n",
            "  % freq, ValueWarning)\n",
            "/usr/local/lib/python3.6/dist-packages/statsmodels/tsa/base/tsa_model.py:165: ValueWarning: No frequency information was provided, so inferred frequency D will be used.\n",
            "  % freq, ValueWarning)\n",
            "/usr/local/lib/python3.6/dist-packages/statsmodels/tsa/base/tsa_model.py:165: ValueWarning: No frequency information was provided, so inferred frequency D will be used.\n",
            "  % freq, ValueWarning)\n",
            "/usr/local/lib/python3.6/dist-packages/statsmodels/tsa/base/tsa_model.py:165: ValueWarning: No frequency information was provided, so inferred frequency D will be used.\n",
            "  % freq, ValueWarning)\n",
            "/usr/local/lib/python3.6/dist-packages/statsmodels/tsa/base/tsa_model.py:165: ValueWarning: No frequency information was provided, so inferred frequency D will be used.\n",
            "  % freq, ValueWarning)\n",
            "/usr/local/lib/python3.6/dist-packages/statsmodels/tsa/base/tsa_model.py:165: ValueWarning: No frequency information was provided, so inferred frequency D will be used.\n",
            "  % freq, ValueWarning)\n",
            "/usr/local/lib/python3.6/dist-packages/statsmodels/tsa/base/tsa_model.py:165: ValueWarning: No frequency information was provided, so inferred frequency D will be used.\n",
            "  % freq, ValueWarning)\n",
            "/usr/local/lib/python3.6/dist-packages/statsmodels/tsa/base/tsa_model.py:165: ValueWarning: No frequency information was provided, so inferred frequency D will be used.\n",
            "  % freq, ValueWarning)\n"
          ],
          "name": "stderr"
        },
        {
          "output_type": "stream",
          "text": [
            "mean squared erro:  [47320.272694730535, 98645.57835798408, 78346.88234432506, 21330.253977367865, 89066.90278601533, 37905.32599303809, 64566.34975883852, 60790.6215468073, 107596.4705660763, 1015227.760337026]\n"
          ],
          "name": "stdout"
        },
        {
          "output_type": "display_data",
          "data": {
            "image/png": "[encoded data removed]",
            "text/plain": [
              "<Figure size 432x288 with 1 Axes>"
            ]
          },
          "metadata": {
            "tags": []
          }
        }
      ]
    },
    {
      "cell_type": "markdown",
      "metadata": {
        "id": "kSsniluO2FLZ",
        "colab_type": "text"
      },
      "source": [
        "## LSTM"
      ]
    },
    {
      "cell_type": "markdown",
      "metadata": {
        "id": "aAYMLaPXUXZ_",
        "colab_type": "text"
      },
      "source": [
        "Each 'time step' should reflect some *real* time block, such as 1 working day or week. The store is typically open for 12hr per day, so We will drop data for days where there isn't a 12 hour open period."
      ]
    },
    {
      "cell_type": "code",
      "metadata": {
        "id": "KMKm9v0ATcQa",
        "colab_type": "code",
        "outputId": "64fabe13-3db5-42fb-f94a-e76940a72592",
        "colab": {
          "base_uri": "https://localhost:8080/",
          "height": 197
        }
      },
      "source": [
        "num=data1.groupby(['Year','Month','date'])['Hour'].agg(['count'])\n",
        "num.reset_index(inplace=True)\n",
        "num.head()#count column shows how many hours we have data for in that day; #the mode is 12 hr\n",
        "#alternatively we could do imputation instead of dropping the data"
      ],
      "execution_count": 0,
      "outputs": [
        {
          "output_type": "execute_result",
          "data": {
            "text/html": [
              "<div>\n",
              "<style scoped>\n",
              "    .dataframe tbody tr th:only-of-type {\n",
              "        vertical-align: middle;\n",
              "    }\n",
              "\n",
              "    .dataframe tbody tr th {\n",
              "        vertical-align: top;\n",
              "    }\n",
              "\n",
              "    .dataframe thead th {\n",
              "        text-align: right;\n",
              "    }\n",
              "</style>\n",
              "<table border=\"1\" class=\"dataframe\">\n",
              "  <thead>\n",
              "    <tr style=\"text-align: right;\">\n",
              "      <th></th>\n",
              "      <th>Year</th>\n",
              "      <th>Month</th>\n",
              "      <th>date</th>\n",
              "      <th>count</th>\n",
              "    </tr>\n",
              "  </thead>\n",
              "  <tbody>\n",
              "    <tr>\n",
              "      <th>0</th>\n",
              "      <td>2019</td>\n",
              "      <td>1</td>\n",
              "      <td>3</td>\n",
              "      <td>10</td>\n",
              "    </tr>\n",
              "    <tr>\n",
              "      <th>1</th>\n",
              "      <td>2019</td>\n",
              "      <td>1</td>\n",
              "      <td>4</td>\n",
              "      <td>8</td>\n",
              "    </tr>\n",
              "    <tr>\n",
              "      <th>2</th>\n",
              "      <td>2019</td>\n",
              "      <td>1</td>\n",
              "      <td>5</td>\n",
              "      <td>11</td>\n",
              "    </tr>\n",
              "    <tr>\n",
              "      <th>3</th>\n",
              "      <td>2019</td>\n",
              "      <td>1</td>\n",
              "      <td>6</td>\n",
              "      <td>9</td>\n",
              "    </tr>\n",
              "    <tr>\n",
              "      <th>4</th>\n",
              "      <td>2019</td>\n",
              "      <td>1</td>\n",
              "      <td>7</td>\n",
              "      <td>13</td>\n",
              "    </tr>\n",
              "  </tbody>\n",
              "</table>\n",
              "</div>"
            ],
            "text/plain": [
              "   Year  Month  date  count\n",
              "0  2019      1     3     10\n",
              "1  2019      1     4      8\n",
              "2  2019      1     5     11\n",
              "3  2019      1     6      9\n",
              "4  2019      1     7     13"
            ]
          },
          "metadata": {
            "tags": []
          },
          "execution_count": 5
        }
      ]
    },
    {
      "cell_type": "code",
      "metadata": {
        "id": "_m8hKekgTVkz",
        "colab_type": "code",
        "colab": {}
      },
      "source": [
        "num=num[num['count']==12] #keep only dates where we have 12h of open time"
      ],
      "execution_count": 0,
      "outputs": []
    },
    {
      "cell_type": "code",
      "metadata": {
        "id": "x2lj0R-NVLdV",
        "colab_type": "code",
        "colab": {}
      },
      "source": [
        "data2=num.merge(data1, left_on=['Year', 'Month','date'], right_on=['Year', 'Month','date']) #one to many join"
      ],
      "execution_count": 0,
      "outputs": []
    },
    {
      "cell_type": "markdown",
      "metadata": {
        "id": "26E7Tkm9WB91",
        "colab_type": "text"
      },
      "source": [
        "The new df (data2) is of the correct shape. For each date in num, there are 12 hours of data. The final df should have 12 x242= 2904"
      ]
    },
    {
      "cell_type": "code",
      "metadata": {
        "id": "1OjHsVMrV6CF",
        "colab_type": "code",
        "outputId": "9cd51c00-ae34-4c76-9844-f62b1779b793",
        "colab": {
          "base_uri": "https://localhost:8080/",
          "height": 34
        }
      },
      "source": [
        "data2.shape"
      ],
      "execution_count": 0,
      "outputs": [
        {
          "output_type": "execute_result",
          "data": {
            "text/plain": [
              "(2904, 13)"
            ]
          },
          "metadata": {
            "tags": []
          },
          "execution_count": 8
        }
      ]
    },
    {
      "cell_type": "code",
      "metadata": {
        "id": "CyldyR2AUJtl",
        "colab_type": "code",
        "outputId": "90af6b24-d0df-4947-a940-28b96f4cdfeb",
        "colab": {
          "base_uri": "https://localhost:8080/",
          "height": 34
        }
      },
      "source": [
        "num.shape"
      ],
      "execution_count": 0,
      "outputs": [
        {
          "output_type": "execute_result",
          "data": {
            "text/plain": [
              "(242, 4)"
            ]
          },
          "metadata": {
            "tags": []
          },
          "execution_count": 9
        }
      ]
    },
    {
      "cell_type": "code",
      "metadata": {
        "id": "fPzkMnxxrBdQ",
        "colab_type": "code",
        "colab": {}
      },
      "source": [
        "y=data2['Gross Sales'] \n",
        "X= data2.drop(['Gross Sales'],axis=1)\n",
        "X=X.reindex(sorted(X.columns),axis=1) #put in alphabetical order\n",
        "X.sort_values(['Year', 'Month','date','Hour'], ascending=[True]*4, inplace=True)"
      ],
      "execution_count": 0,
      "outputs": []
    },
    {
      "cell_type": "code",
      "metadata": {
        "id": "JuE_qXspAEZ0",
        "colab_type": "code",
        "colab": {}
      },
      "source": [
        "y=y[:2856] # keep first 2856/2904; to make it easier to sequence through weeks"
      ],
      "execution_count": 0,
      "outputs": []
    },
    {
      "cell_type": "code",
      "metadata": {
        "id": "oMqtcgft9pJJ",
        "colab_type": "code",
        "outputId": "ee2c7290-33c5-456a-85c3-5521e17b0b57",
        "colab": {
          "base_uri": "https://localhost:8080/",
          "height": 34
        }
      },
      "source": [
        "# split into sample timesteps\n",
        "samples = list()\n",
        "length = 84 #length of each time step (or time sequence representing the 12 hours open each day x 7 days= 1 week)\n",
        "#timesteps= int(y.shape[0]/length) #num\n",
        "\n",
        "for i in range(0,len(y),length):\n",
        "\t# grab from i to i + length\n",
        "  sample = y[i:i+length]\n",
        "  samples.append(sample)\n",
        "\n",
        "print (len(samples))"
      ],
      "execution_count": 0,
      "outputs": [
        {
          "output_type": "stream",
          "text": [
            "34\n"
          ],
          "name": "stdout"
        }
      ]
    },
    {
      "cell_type": "markdown",
      "metadata": {
        "id": "hg2PjaElWvG-",
        "colab_type": "text"
      },
      "source": [
        "This 34 represents the 34 weeks (each day composed of a sequence of 12h x 7 days) that we're training/testing on."
      ]
    },
    {
      "cell_type": "code",
      "metadata": {
        "id": "B63cLGlZBmCm",
        "colab_type": "code",
        "outputId": "7d79c3db-44a9-4863-a39b-888a4cf97a0f",
        "colab": {
          "base_uri": "https://localhost:8080/",
          "height": 34
        }
      },
      "source": [
        "#reformat data into array and add 3rd filler dimension needed for lstm model\n",
        "data=np.array(samples)\n",
        "\n",
        "data=data.reshape((len(samples), length,1)) #length is the timestep size\n",
        "data.shape\n"
      ],
      "execution_count": 0,
      "outputs": [
        {
          "output_type": "execute_result",
          "data": {
            "text/plain": [
              "(34, 84, 1)"
            ]
          },
          "metadata": {
            "tags": []
          },
          "execution_count": 13
        }
      ]
    },
    {
      "cell_type": "code",
      "metadata": {
        "id": "9M1jydCbt-LC",
        "colab_type": "code",
        "colab": {}
      },
      "source": [
        "seq_length=length # length of a sequence\n",
        "\n",
        "model = tf.keras.Sequential()\n",
        "# Add a LSTM layer with 128 internal units.\n",
        "model.add(layers.LSTM(seq_length, dropout=0.2, recurrent_dropout=0.2, input_shape=(1,84), return_sequences=True)) #input dim :# y columns\n",
        "model.add(layers.Dense(seq_length))\n",
        "\n",
        "model.compile(loss='mean_squared_error', optimizer='adam')\n",
        "monitor= EarlyStopping(monitor='val_loss', min_delta=1e-3, patience=5, verbose=1, mode='auto')\n",
        "#model.summary()"
      ],
      "execution_count": 0,
      "outputs": []
    },
    {
      "cell_type": "code",
      "metadata": {
        "id": "l1GEcN9GE-Rv",
        "colab_type": "code",
        "outputId": "0056ad45-54a6-493f-8e7c-2766810c5f21",
        "colab": {
          "base_uri": "https://localhost:8080/",
          "height": 84
        }
      },
      "source": [
        "ntrain= int(0.8*len(data)) #number of rows to train on , 80-20 train-test split\n",
        "\n",
        "xtrain=data[:ntrain]\n",
        "xtest= data[ntrain:-1]\n",
        "\n",
        "#use previous week to model upcoming week by creating offset\n",
        "ytrain=data[1:ntrain+1]\n",
        "ytest= data[ntrain+1:]\n",
        "\n",
        "#check that the dimensions matchup\n",
        "print(xtrain.shape)\n",
        "print(ytrain.shape)\n",
        "print(xtest.shape)\n",
        "print(ytest.shape)"
      ],
      "execution_count": 0,
      "outputs": [
        {
          "output_type": "stream",
          "text": [
            "(27, 84, 1)\n",
            "(27, 84, 1)\n",
            "(6, 84, 1)\n",
            "(6, 84, 1)\n"
          ],
          "name": "stdout"
        }
      ]
    },
    {
      "cell_type": "code",
      "metadata": {
        "id": "qVPAfEJAo90y",
        "colab_type": "code",
        "outputId": "02ae735e-f949-42c2-b739-1b5d0dd6f1ad",
        "colab": {
          "base_uri": "https://localhost:8080/",
          "height": 84
        }
      },
      "source": [
        "xtrain=xtrain.reshape(xtrain.shape[0],1,xtrain.shape[1])\n",
        "ytrain=ytrain.reshape(ytrain.shape[0],1,ytrain.shape[1])\n",
        "\n",
        "xtest=xtest.reshape(xtest.shape[0],1,xtest.shape[1])\n",
        "ytest=ytest.reshape(ytest.shape[0],1,ytest.shape[1])\n",
        "\n",
        "#check that the dimensions matchup\n",
        "print(xtrain.shape)\n",
        "print(ytrain.shape)\n",
        "print(xtest.shape)\n",
        "print(ytest.shape)\n",
        "\n",
        "\n",
        "#trainX = numpy.reshape(trainX, (trainX.shape[0], 1, trainX.shape[1]))\n",
        "#testX = numpy.reshape(testX, (testX.shape[0], 1, testX.shape[1]))"
      ],
      "execution_count": 0,
      "outputs": [
        {
          "output_type": "stream",
          "text": [
            "(27, 1, 84)\n",
            "(27, 1, 84)\n",
            "(6, 1, 84)\n",
            "(6, 1, 84)\n"
          ],
          "name": "stdout"
        }
      ]
    },
    {
      "cell_type": "code",
      "metadata": {
        "id": "1rthTe9rt-OA",
        "colab_type": "code",
        "outputId": "d7c4800b-2cc1-46be-ca7d-84dc7c60d161",
        "colab": {
          "base_uri": "https://localhost:8080/",
          "height": 34
        }
      },
      "source": [
        "epoch=100\n",
        "\n",
        "history=model.fit(xtrain, ytrain, validation_data=(xtest, ytest),batch_size=1, callbacks=[monitor], verbose=0, epochs= epoch)"
      ],
      "execution_count": 0,
      "outputs": [
        {
          "output_type": "stream",
          "text": [
            "Epoch 00089: early stopping\n"
          ],
          "name": "stdout"
        }
      ]
    },
    {
      "cell_type": "code",
      "metadata": {
        "id": "tINdYdcia1Ks",
        "colab_type": "code",
        "colab": {}
      },
      "source": [
        "total_epochs=len(history.history['loss'])\n",
        "\n",
        "\n",
        "plt.plot(range(total_epochs), history.history['loss'])\n",
        "plt.plot(range(total_epochs), history.history['val_loss'])\n",
        "plt.legend(['train','test set MSE'])\n",
        "plt.xlabel('Epoch')\n",
        "plt.ylabel('MSE')"
      ],
      "execution_count": 0,
      "outputs": []
    },
    {
      "cell_type": "code",
      "metadata": {
        "id": "flFzZqeQt-Q4",
        "colab_type": "code",
        "colab": {}
      },
      "source": [
        "ypred=model.predict(xtest)\n",
        "ypred_flat= [item for sublist in ypred for item in sublist]\n",
        "\n",
        "ytest_flat= [item for sublist in ytest for item in sublist]\n",
        "#len(ypred)"
      ],
      "execution_count": 0,
      "outputs": []
    },
    {
      "cell_type": "code",
      "metadata": {
        "id": "X6qicTWrsdH3",
        "colab_type": "code",
        "outputId": "865fd933-1a9c-4688-f9a8-4085c45a959c",
        "colab": {
          "base_uri": "https://localhost:8080/",
          "height": 296
        }
      },
      "source": [
        "plt.plot(range(84), ypred_flat[1])\n",
        "plt.plot(range(84), ytest_flat[1])\n",
        "plt.legend(['Real','Predicted'])\n",
        "plt.xlabel('Hours (corresponding to 7 total days)')\n",
        "plt.ylabel('Gross Sales per hour')"
      ],
      "execution_count": 0,
      "outputs": [
        {
          "output_type": "execute_result",
          "data": {
            "text/plain": [
              "Text(0, 0.5, 'Gross Sales per hour')"
            ]
          },
          "metadata": {
            "tags": []
          },
          "execution_count": 47
        },
        {
          "output_type": "display_data",
          "data": {
            "image/png": "[encoded data removed]",
            "text/plain": [
              "<Figure size 432x288 with 1 Axes>"
            ]
          },
          "metadata": {
            "tags": []
          }
        }
      ]
    },
    {
      "cell_type": "markdown",
      "metadata": {
        "id": "IWPptDO9Zh_L",
        "colab_type": "text"
      },
      "source": [
        "#Conclusion\n",
        "This model performance is comparable to the xgboost model in this case. It could be improved by adding additional factors. Or, the time sequence used to \"look back\" could be adjusted to capture different ranges of trends and information."
      ]
    }
  ]
}