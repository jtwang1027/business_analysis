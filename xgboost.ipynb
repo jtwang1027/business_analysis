{
  "nbformat": 4,
  "nbformat_minor": 0,
  "metadata": {
    "colab": {
      "name": "xgboost.ipynb",
      "provenance": [],
      "collapsed_sections": [],
      "mount_file_id": "1wGWhhzEkVz9_rR3XDTCBh4nwP2CpzKyM",
      "authorship_tag": "ABX9TyNAGnhD7Y+j/X7F5HAADIYF",
      "include_colab_link": true
    },
    "kernelspec": {
      "name": "python3",
      "display_name": "Python 3"
    }
  },
  "cells": [
    {
      "cell_type": "markdown",
      "metadata": {
        "id": "view-in-github",
        "colab_type": "text"
      },
      "source": [
        "<a href=\"https://colab.research.google.com/github/jtwang1027/business_analysis/blob/master/xgboost.ipynb\" target=\"_parent\"><img src=\"https://colab.research.google.com/assets/colab-badge.svg\" alt=\"Open In Colab\"/></a>"
      ]
    },
    {
      "cell_type": "markdown",
      "metadata": {
        "id": "67Axr46Yq0N1",
        "colab_type": "text"
      },
      "source": [
        "# Gradient boosted trees on a year's worth of sales data to predict Gross Sales"
      ]
    },
    {
      "cell_type": "code",
      "metadata": {
        "id": "2toXa_zXq-La",
        "colab_type": "code",
        "colab": {}
      },
      "source": [
        "import pandas as pd\n",
        "from sklearn.model_selection import train_test_split\n",
        "import numpy as np\n",
        "from sklearn.metrics import mean_squared_error\n",
        "from math import sqrt\n",
        "import xgboost as xgb\n"
      ],
      "execution_count": 0,
      "outputs": []
    },
    {
      "cell_type": "markdown",
      "metadata": {
        "id": "efmfCcdq1aKK",
        "colab_type": "text"
      },
      "source": [
        "#Ingesting Data and processing"
      ]
    },
    {
      "cell_type": "code",
      "metadata": {
        "id": "NX0GUXRWrBmp",
        "colab_type": "code",
        "colab": {}
      },
      "source": [
        "\n",
        "data1=pd.read_csv('/content/drive/My Drive/feb_2020-dataset.csv')\n",
        "\n"
      ],
      "execution_count": 0,
      "outputs": []
    },
    {
      "cell_type": "markdown",
      "metadata": {
        "id": "47IZ4TZKrv-A",
        "colab_type": "text"
      },
      "source": [
        "The data has been preprocessed with day of week one hot encoded as well month, date, and year separated into their own columns. The Gross Sales reflect the cumulative sales generated in that hour."
      ]
    },
    {
      "cell_type": "code",
      "metadata": {
        "id": "Sjf0Tmk5rr4a",
        "colab_type": "code",
        "outputId": "c9d58271-6221-4b1a-f23e-fb0b92ed5983",
        "colab": {
          "base_uri": "https://localhost:8080/",
          "height": 171
        }
      },
      "source": [
        "data1.sample(4)"
      ],
      "execution_count": 5,
      "outputs": [
        {
          "output_type": "execute_result",
          "data": {
            "text/html": [
              "<div>\n",
              "<style scoped>\n",
              "    .dataframe tbody tr th:only-of-type {\n",
              "        vertical-align: middle;\n",
              "    }\n",
              "\n",
              "    .dataframe tbody tr th {\n",
              "        vertical-align: top;\n",
              "    }\n",
              "\n",
              "    .dataframe thead th {\n",
              "        text-align: right;\n",
              "    }\n",
              "</style>\n",
              "<table border=\"1\" class=\"dataframe\">\n",
              "  <thead>\n",
              "    <tr style=\"text-align: right;\">\n",
              "      <th></th>\n",
              "      <th>Hour</th>\n",
              "      <th>Gross Sales</th>\n",
              "      <th>Friday</th>\n",
              "      <th>Monday</th>\n",
              "      <th>Saturday</th>\n",
              "      <th>Sunday</th>\n",
              "      <th>Thursday</th>\n",
              "      <th>Tuesday</th>\n",
              "      <th>Wednesday</th>\n",
              "      <th>Month</th>\n",
              "      <th>date</th>\n",
              "      <th>Year</th>\n",
              "    </tr>\n",
              "  </thead>\n",
              "  <tbody>\n",
              "    <tr>\n",
              "      <th>2127</th>\n",
              "      <td>17</td>\n",
              "      <td>91.10</td>\n",
              "      <td>0</td>\n",
              "      <td>1</td>\n",
              "      <td>0</td>\n",
              "      <td>0</td>\n",
              "      <td>0</td>\n",
              "      <td>0</td>\n",
              "      <td>0</td>\n",
              "      <td>7</td>\n",
              "      <td>1</td>\n",
              "      <td>2019</td>\n",
              "    </tr>\n",
              "    <tr>\n",
              "      <th>368</th>\n",
              "      <td>16</td>\n",
              "      <td>194.62</td>\n",
              "      <td>0</td>\n",
              "      <td>0</td>\n",
              "      <td>1</td>\n",
              "      <td>0</td>\n",
              "      <td>0</td>\n",
              "      <td>0</td>\n",
              "      <td>0</td>\n",
              "      <td>2</td>\n",
              "      <td>2</td>\n",
              "      <td>2019</td>\n",
              "    </tr>\n",
              "    <tr>\n",
              "      <th>508</th>\n",
              "      <td>22</td>\n",
              "      <td>102.21</td>\n",
              "      <td>0</td>\n",
              "      <td>0</td>\n",
              "      <td>0</td>\n",
              "      <td>0</td>\n",
              "      <td>1</td>\n",
              "      <td>0</td>\n",
              "      <td>0</td>\n",
              "      <td>2</td>\n",
              "      <td>14</td>\n",
              "      <td>2019</td>\n",
              "    </tr>\n",
              "    <tr>\n",
              "      <th>1380</th>\n",
              "      <td>13</td>\n",
              "      <td>102.77</td>\n",
              "      <td>0</td>\n",
              "      <td>0</td>\n",
              "      <td>0</td>\n",
              "      <td>1</td>\n",
              "      <td>0</td>\n",
              "      <td>0</td>\n",
              "      <td>0</td>\n",
              "      <td>4</td>\n",
              "      <td>28</td>\n",
              "      <td>2019</td>\n",
              "    </tr>\n",
              "  </tbody>\n",
              "</table>\n",
              "</div>"
            ],
            "text/plain": [
              "      Hour  Gross Sales  Friday  Monday  ...  Wednesday  Month  date  Year\n",
              "2127    17        91.10       0       1  ...          0      7     1  2019\n",
              "368     16       194.62       0       0  ...          0      2     2  2019\n",
              "508     22       102.21       0       0  ...          0      2    14  2019\n",
              "1380    13       102.77       0       0  ...          0      4    28  2019\n",
              "\n",
              "[4 rows x 12 columns]"
            ]
          },
          "metadata": {
            "tags": []
          },
          "execution_count": 5
        }
      ]
    },
    {
      "cell_type": "markdown",
      "metadata": {
        "id": "WT-HpNCWs5ky",
        "colab_type": "text"
      },
      "source": [
        "It is worth noting the **time-dependent** nature of this data. So a random split of the whole dataset is *cheating*. It'd be better to split the data into *past* and *future*, and train it on the past and evaluate it on the future."
      ]
    },
    {
      "cell_type": "code",
      "metadata": {
        "id": "B5pEntMYt3YC",
        "colab_type": "code",
        "colab": {}
      },
      "source": [
        "data1.sort_values(['Year', 'Month','date','Hour'], ascending=[True]*4, inplace=True)#sort based on date and predict last 25% values"
      ],
      "execution_count": 0,
      "outputs": []
    },
    {
      "cell_type": "code",
      "metadata": {
        "id": "wHLvsddYuipp",
        "colab_type": "code",
        "outputId": "46b85e04-44b1-4ffe-eb58-22f76f097ee2",
        "colab": {
          "base_uri": "https://localhost:8080/",
          "height": 202
        }
      },
      "source": [
        "#check that the df is sorted\n",
        "data1.head(5)"
      ],
      "execution_count": 0,
      "outputs": [
        {
          "output_type": "execute_result",
          "data": {
            "text/html": [
              "<div>\n",
              "<style scoped>\n",
              "    .dataframe tbody tr th:only-of-type {\n",
              "        vertical-align: middle;\n",
              "    }\n",
              "\n",
              "    .dataframe tbody tr th {\n",
              "        vertical-align: top;\n",
              "    }\n",
              "\n",
              "    .dataframe thead th {\n",
              "        text-align: right;\n",
              "    }\n",
              "</style>\n",
              "<table border=\"1\" class=\"dataframe\">\n",
              "  <thead>\n",
              "    <tr style=\"text-align: right;\">\n",
              "      <th></th>\n",
              "      <th>Hour</th>\n",
              "      <th>Gross Sales</th>\n",
              "      <th>Friday</th>\n",
              "      <th>Monday</th>\n",
              "      <th>Saturday</th>\n",
              "      <th>Sunday</th>\n",
              "      <th>Thursday</th>\n",
              "      <th>Tuesday</th>\n",
              "      <th>Wednesday</th>\n",
              "      <th>Month</th>\n",
              "      <th>date</th>\n",
              "      <th>Year</th>\n",
              "    </tr>\n",
              "  </thead>\n",
              "  <tbody>\n",
              "    <tr>\n",
              "      <th>0</th>\n",
              "      <td>11</td>\n",
              "      <td>8.78</td>\n",
              "      <td>0</td>\n",
              "      <td>0</td>\n",
              "      <td>0</td>\n",
              "      <td>0</td>\n",
              "      <td>1</td>\n",
              "      <td>0</td>\n",
              "      <td>0</td>\n",
              "      <td>1</td>\n",
              "      <td>3</td>\n",
              "      <td>2019</td>\n",
              "    </tr>\n",
              "    <tr>\n",
              "      <th>1</th>\n",
              "      <td>12</td>\n",
              "      <td>96.74</td>\n",
              "      <td>0</td>\n",
              "      <td>0</td>\n",
              "      <td>0</td>\n",
              "      <td>0</td>\n",
              "      <td>1</td>\n",
              "      <td>0</td>\n",
              "      <td>0</td>\n",
              "      <td>1</td>\n",
              "      <td>3</td>\n",
              "      <td>2019</td>\n",
              "    </tr>\n",
              "    <tr>\n",
              "      <th>2</th>\n",
              "      <td>13</td>\n",
              "      <td>48.41</td>\n",
              "      <td>0</td>\n",
              "      <td>0</td>\n",
              "      <td>0</td>\n",
              "      <td>0</td>\n",
              "      <td>1</td>\n",
              "      <td>0</td>\n",
              "      <td>0</td>\n",
              "      <td>1</td>\n",
              "      <td>3</td>\n",
              "      <td>2019</td>\n",
              "    </tr>\n",
              "    <tr>\n",
              "      <th>3</th>\n",
              "      <td>14</td>\n",
              "      <td>79.26</td>\n",
              "      <td>0</td>\n",
              "      <td>0</td>\n",
              "      <td>0</td>\n",
              "      <td>0</td>\n",
              "      <td>1</td>\n",
              "      <td>0</td>\n",
              "      <td>0</td>\n",
              "      <td>1</td>\n",
              "      <td>3</td>\n",
              "      <td>2019</td>\n",
              "    </tr>\n",
              "    <tr>\n",
              "      <th>4</th>\n",
              "      <td>15</td>\n",
              "      <td>73.65</td>\n",
              "      <td>0</td>\n",
              "      <td>0</td>\n",
              "      <td>0</td>\n",
              "      <td>0</td>\n",
              "      <td>1</td>\n",
              "      <td>0</td>\n",
              "      <td>0</td>\n",
              "      <td>1</td>\n",
              "      <td>3</td>\n",
              "      <td>2019</td>\n",
              "    </tr>\n",
              "  </tbody>\n",
              "</table>\n",
              "</div>"
            ],
            "text/plain": [
              "   Hour  Gross Sales  Friday  Monday  ...  Wednesday  Month  date  Year\n",
              "0    11         8.78       0       0  ...          0      1     3  2019\n",
              "1    12        96.74       0       0  ...          0      1     3  2019\n",
              "2    13        48.41       0       0  ...          0      1     3  2019\n",
              "3    14        79.26       0       0  ...          0      1     3  2019\n",
              "4    15        73.65       0       0  ...          0      1     3  2019\n",
              "\n",
              "[5 rows x 12 columns]"
            ]
          },
          "metadata": {
            "tags": []
          },
          "execution_count": 23
        }
      ]
    },
    {
      "cell_type": "code",
      "metadata": {
        "id": "fPzkMnxxrBdQ",
        "colab_type": "code",
        "colab": {}
      },
      "source": [
        "y=data1['Gross Sales'] \n",
        "X= data1.drop(['Gross Sales'],axis=1)\n",
        "X=X.reindex(sorted(X.columns),axis=1) #put in alphabetical order"
      ],
      "execution_count": 0,
      "outputs": []
    },
    {
      "cell_type": "code",
      "metadata": {
        "id": "d5rSiDX3vSkp",
        "colab_type": "code",
        "colab": {}
      },
      "source": [
        "xtrain= X.iloc[:3589,:]#split 80-20\n",
        "ytrain= y.iloc[:3589]#split 80-20\n",
        "\n",
        "xtest= X.iloc[3589:,:]#split 80-20\n",
        "ytest= y.iloc[3589:]#split 80-20"
      ],
      "execution_count": 0,
      "outputs": []
    },
    {
      "cell_type": "markdown",
      "metadata": {
        "id": "ZHaDRQCk1duz",
        "colab_type": "text"
      },
      "source": [
        "#Model fitting and evaluation\n"
      ]
    },
    {
      "cell_type": "code",
      "metadata": {
        "id": "c13bWlIBre0L",
        "colab_type": "code",
        "colab": {
          "base_uri": "https://localhost:8080/",
          "height": 87
        },
        "outputId": "63a1d2ba-b037-435b-fdd5-0787008c271d"
      },
      "source": [
        "xgb_model = xgb.XGBRegressor(objective=\"reg:squarederror\", random_state=42)\n",
        "\n",
        "xgb_model.fit(xtrain, ytrain)\n",
        "\n",
        "y_pred = xgb_model.predict(xtest)"
      ],
      "execution_count": 13,
      "outputs": [
        {
          "output_type": "stream",
          "text": [
            "/usr/local/lib/python3.6/dist-packages/xgboost/core.py:587: FutureWarning: Series.base is deprecated and will be removed in a future version\n",
            "  if getattr(data, 'base', None) is not None and \\\n",
            "/usr/local/lib/python3.6/dist-packages/xgboost/core.py:588: FutureWarning: Series.base is deprecated and will be removed in a future version\n",
            "  data.base is not None and isinstance(data, np.ndarray) \\\n"
          ],
          "name": "stderr"
        }
      ]
    },
    {
      "cell_type": "code",
      "metadata": {
        "id": "a5fhqD4qrBac",
        "colab_type": "code",
        "outputId": "cda1af7b-0399-4674-d42b-5caeb9ee3481",
        "colab": {
          "base_uri": "https://localhost:8080/",
          "height": 34
        }
      },
      "source": [
        "mse=sqrt(mean_squared_error(ytest, y_pred))\n",
        "f'RMSE: ${round(mse,2)}'"
      ],
      "execution_count": 14,
      "outputs": [
        {
          "output_type": "execute_result",
          "data": {
            "text/plain": [
              "'RMSE: $35.97'"
            ]
          },
          "metadata": {
            "tags": []
          },
          "execution_count": 14
        }
      ]
    },
    {
      "cell_type": "code",
      "metadata": {
        "id": "ySEKi0KnwvF5",
        "colab_type": "code",
        "outputId": "9b4b89c7-9ef3-4bd5-a56c-8bcad4b69493",
        "colab": {
          "base_uri": "https://localhost:8080/",
          "height": 34
        }
      },
      "source": [
        "#mean average error\n",
        "mae=abs(ytest-y_pred).sum()/ len(y_pred)\n",
        "f'mean average error: ${round(mae,2)}'"
      ],
      "execution_count": 15,
      "outputs": [
        {
          "output_type": "execute_result",
          "data": {
            "text/plain": [
              "'mean average error: $28.49'"
            ]
          },
          "metadata": {
            "tags": []
          },
          "execution_count": 15
        }
      ]
    },
    {
      "cell_type": "code",
      "metadata": {
        "id": "bLz_iql1s4Nk",
        "colab_type": "code",
        "colab": {}
      },
      "source": [
        "import matplotlib.pyplot as plt\n",
        "import seaborn as sns"
      ],
      "execution_count": 0,
      "outputs": []
    },
    {
      "cell_type": "code",
      "metadata": {
        "id": "XePVlox3xtFS",
        "colab_type": "code",
        "outputId": "4a8246d2-0877-4def-c50c-5b38eb0c10fb",
        "colab": {
          "base_uri": "https://localhost:8080/",
          "height": 296
        }
      },
      "source": [
        "sns.distplot(data1['Gross Sales'])\n",
        "plt.xlim(0,300)\n",
        "plt.xlabel('Gross Sales')\n",
        "plt.ylabel('Freq')"
      ],
      "execution_count": 45,
      "outputs": [
        {
          "output_type": "execute_result",
          "data": {
            "text/plain": [
              "Text(0, 0.5, 'Freq')"
            ]
          },
          "metadata": {
            "tags": []
          },
          "execution_count": 45
        },
        {
          "output_type": "display_data",
          "data": {
            "image/png": "[encoded data removed]",
            "text/plain": [
              "<Figure size 432x288 with 1 Axes>"
            ]
          },
          "metadata": {
            "tags": []
          }
        }
      ]
    },
    {
      "cell_type": "markdown",
      "metadata": {
        "id": "EWGJcUZ2yIiY",
        "colab_type": "text"
      },
      "source": [
        "#Conclusion\n",
        "Although this xgboost model is outperforming linear regression, the MAE is still relatively significant. Perhaps we can do better using other models. Or, adding factors (such as events, weather) to improve this model."
      ]
    },
    {
      "cell_type": "markdown",
      "metadata": {
        "id": "NRhJ_1YU1kJp",
        "colab_type": "text"
      },
      "source": [
        "#Followup questions:\n",
        "\n",
        "\n",
        "\n",
        "1.   Would more data help?\n",
        "2.  What are the most important features of this model currently?\n",
        "\n"
      ]
    },
    {
      "cell_type": "markdown",
      "metadata": {
        "id": "Famjipje103M",
        "colab_type": "text"
      },
      "source": [
        "1. Would more data help? \n",
        "We can assess this by testing this xgboost model through time. We have ~13.5 months of data, and will divide it into 30 time periods (iteratively generating models until the present period and evaluating them on *future* data.)"
      ]
    },
    {
      "cell_type": "code",
      "metadata": {
        "id": "-0Pj5YG51s5D",
        "colab_type": "code",
        "colab": {}
      },
      "source": [
        "all_mse=[]\n",
        "nrows=X.shape[0]\n",
        "for k in range(1,31):\n",
        "  #set train and test data\n",
        "  nrows_train= int(nrows*k/31) #fraction of data to use\n",
        "\n",
        "  xtrain= X.iloc[:nrows_train,:]\n",
        "  ytrain= y.iloc[:nrows_train]\n",
        "\n",
        "  xtest= X.iloc[nrows_train:,:]\n",
        "  ytest= y.iloc[nrows_train:]\n",
        "  xgb_model = xgb.XGBRegressor(objective=\"reg:squarederror\", random_state=42)\n",
        "\n",
        "  xgb_model.fit(xtrain, ytrain)\n",
        "\n",
        "  y_pred = xgb_model.predict(xtest)\n",
        "  rmse=sqrt(mean_squared_error(ytest, y_pred))\n",
        "\n",
        "  all_mse.append(rmse)"
      ],
      "execution_count": 0,
      "outputs": []
    },
    {
      "cell_type": "code",
      "metadata": {
        "id": "fVYrmApn1s2L",
        "colab_type": "code",
        "colab": {
          "base_uri": "https://localhost:8080/",
          "height": 299
        },
        "outputId": "c5fb4f9a-9e87-4860-8d90-5c37c9f4731b"
      },
      "source": [
        "sns.scatterplot(list(range(len(all_mse))),all_mse)\n",
        "plt.ylabel('RMSE')\n",
        "plt.xlabel('Time (arbitray proportion)')"
      ],
      "execution_count": 52,
      "outputs": [
        {
          "output_type": "execute_result",
          "data": {
            "text/plain": [
              "Text(0.5, 0, 'Time (arbitray proportion)')"
            ]
          },
          "metadata": {
            "tags": []
          },
          "execution_count": 52
        },
        {
          "output_type": "display_data",
          "data": {
            "image/png": "[encoded data removed]",
            "text/plain": [
              "<Figure size 432x288 with 1 Axes>"
            ]
          },
          "metadata": {
            "tags": []
          }
        }
      ]
    },
    {
      "cell_type": "markdown",
      "metadata": {
        "id": "rDzzP0Az5fR7",
        "colab_type": "text"
      },
      "source": [
        "This suggests that more data is helping to improve the model. However, this trend could also be influenced by over-fitting. Measurements toward the right are evaluated on less and less data."
      ]
    }
  ]
}