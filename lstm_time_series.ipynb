{
  "nbformat": 4,
  "nbformat_minor": 0,
  "metadata": {
    "colab": {
      "name": "lstm-time_series.ipynb",
      "provenance": [],
      "collapsed_sections": [],
      "mount_file_id": "1wDOszLdzPkWNXuH6ly_4qWLTv0IqR-XY",
      "authorship_tag": "ABX9TyNKmF0iAy7YHL3WSoZAMvBS",
      "include_colab_link": true
    },
    "kernelspec": {
      "name": "python3",
      "display_name": "Python 3"
    },
    "accelerator": "GPU"
  },
  "cells": [
    {
      "cell_type": "markdown",
      "metadata": {
        "id": "view-in-github",
        "colab_type": "text"
      },
      "source": [
        "<a href=\"https://colab.research.google.com/github/jtwang1027/business_analysis/blob/master/lstm_time_series.ipynb\" target=\"_parent\"><img src=\"https://colab.research.google.com/assets/colab-badge.svg\" alt=\"Open In Colab\"/></a>"
      ]
    },
    {
      "cell_type": "code",
      "metadata": {
        "id": "oIi0RbNLt8IF",
        "colab_type": "code",
        "colab": {}
      },
      "source": [
        "from __future__ import absolute_import, division, print_function, unicode_literals\n",
        "\n",
        "import collections\n",
        "import matplotlib.pyplot as plt\n",
        "import numpy as np\n",
        "\n",
        "try:\n",
        "  # %tensorflow_version only exists in Colab.\n",
        "  %tensorflow_version 2.x\n",
        "except Exception:\n",
        "  pass\n",
        "import tensorflow as tf\n",
        "\n",
        "from tensorflow.keras import layers"
      ],
      "execution_count": 0,
      "outputs": []
    },
    {
      "cell_type": "code",
      "metadata": {
        "id": "ASOhEAlx8nxw",
        "colab_type": "code",
        "colab": {}
      },
      "source": [
        "from keras.callbacks import EarlyStopping\n",
        "import pandas as pd\n"
      ],
      "execution_count": 0,
      "outputs": []
    },
    {
      "cell_type": "code",
      "metadata": {
        "id": "HKr5W50Mw7wO",
        "colab_type": "code",
        "colab": {}
      },
      "source": [
        "\n",
        "data1=pd.read_csv('/content/drive/My Drive/feb_2020-dataset.csv')\n",
        "\n",
        "#data1=data1.iloc[:4450,] #rounds it out and makes it easier to create sequences"
      ],
      "execution_count": 0,
      "outputs": []
    },
    {
      "cell_type": "code",
      "metadata": {
        "id": "GRu_YJRLTVeD",
        "colab_type": "code",
        "colab": {
          "base_uri": "https://localhost:8080/",
          "height": 197
        },
        "outputId": "ef07caa2-07b4-4140-89c3-4d34ba219d45"
      },
      "source": [
        "data1.head()\n"
      ],
      "execution_count": 145,
      "outputs": [
        {
          "output_type": "execute_result",
          "data": {
            "text/html": [
              "<div>\n",
              "<style scoped>\n",
              "    .dataframe tbody tr th:only-of-type {\n",
              "        vertical-align: middle;\n",
              "    }\n",
              "\n",
              "    .dataframe tbody tr th {\n",
              "        vertical-align: top;\n",
              "    }\n",
              "\n",
              "    .dataframe thead th {\n",
              "        text-align: right;\n",
              "    }\n",
              "</style>\n",
              "<table border=\"1\" class=\"dataframe\">\n",
              "  <thead>\n",
              "    <tr style=\"text-align: right;\">\n",
              "      <th></th>\n",
              "      <th>Hour</th>\n",
              "      <th>Gross Sales</th>\n",
              "      <th>Friday</th>\n",
              "      <th>Monday</th>\n",
              "      <th>Saturday</th>\n",
              "      <th>Sunday</th>\n",
              "      <th>Thursday</th>\n",
              "      <th>Tuesday</th>\n",
              "      <th>Wednesday</th>\n",
              "      <th>Month</th>\n",
              "      <th>date</th>\n",
              "      <th>Year</th>\n",
              "    </tr>\n",
              "  </thead>\n",
              "  <tbody>\n",
              "    <tr>\n",
              "      <th>0</th>\n",
              "      <td>11</td>\n",
              "      <td>8.78</td>\n",
              "      <td>0</td>\n",
              "      <td>0</td>\n",
              "      <td>0</td>\n",
              "      <td>0</td>\n",
              "      <td>1</td>\n",
              "      <td>0</td>\n",
              "      <td>0</td>\n",
              "      <td>1</td>\n",
              "      <td>3</td>\n",
              "      <td>2019</td>\n",
              "    </tr>\n",
              "    <tr>\n",
              "      <th>1</th>\n",
              "      <td>12</td>\n",
              "      <td>96.74</td>\n",
              "      <td>0</td>\n",
              "      <td>0</td>\n",
              "      <td>0</td>\n",
              "      <td>0</td>\n",
              "      <td>1</td>\n",
              "      <td>0</td>\n",
              "      <td>0</td>\n",
              "      <td>1</td>\n",
              "      <td>3</td>\n",
              "      <td>2019</td>\n",
              "    </tr>\n",
              "    <tr>\n",
              "      <th>2</th>\n",
              "      <td>13</td>\n",
              "      <td>48.41</td>\n",
              "      <td>0</td>\n",
              "      <td>0</td>\n",
              "      <td>0</td>\n",
              "      <td>0</td>\n",
              "      <td>1</td>\n",
              "      <td>0</td>\n",
              "      <td>0</td>\n",
              "      <td>1</td>\n",
              "      <td>3</td>\n",
              "      <td>2019</td>\n",
              "    </tr>\n",
              "    <tr>\n",
              "      <th>3</th>\n",
              "      <td>14</td>\n",
              "      <td>79.26</td>\n",
              "      <td>0</td>\n",
              "      <td>0</td>\n",
              "      <td>0</td>\n",
              "      <td>0</td>\n",
              "      <td>1</td>\n",
              "      <td>0</td>\n",
              "      <td>0</td>\n",
              "      <td>1</td>\n",
              "      <td>3</td>\n",
              "      <td>2019</td>\n",
              "    </tr>\n",
              "    <tr>\n",
              "      <th>4</th>\n",
              "      <td>15</td>\n",
              "      <td>73.65</td>\n",
              "      <td>0</td>\n",
              "      <td>0</td>\n",
              "      <td>0</td>\n",
              "      <td>0</td>\n",
              "      <td>1</td>\n",
              "      <td>0</td>\n",
              "      <td>0</td>\n",
              "      <td>1</td>\n",
              "      <td>3</td>\n",
              "      <td>2019</td>\n",
              "    </tr>\n",
              "  </tbody>\n",
              "</table>\n",
              "</div>"
            ],
            "text/plain": [
              "   Hour  Gross Sales  Friday  Monday  ...  Wednesday  Month  date  Year\n",
              "0    11         8.78       0       0  ...          0      1     3  2019\n",
              "1    12        96.74       0       0  ...          0      1     3  2019\n",
              "2    13        48.41       0       0  ...          0      1     3  2019\n",
              "3    14        79.26       0       0  ...          0      1     3  2019\n",
              "4    15        73.65       0       0  ...          0      1     3  2019\n",
              "\n",
              "[5 rows x 12 columns]"
            ]
          },
          "metadata": {
            "tags": []
          },
          "execution_count": 145
        }
      ]
    },
    {
      "cell_type": "markdown",
      "metadata": {
        "id": "aAYMLaPXUXZ_",
        "colab_type": "text"
      },
      "source": [
        "The data needs to be cleaned. Each 'time step' should reflect some *real* time block, such as 1 working day or week. The store is typically open for 12hr per day, so We will drop data for days where there isn't a 12 hour open period."
      ]
    },
    {
      "cell_type": "code",
      "metadata": {
        "id": "KMKm9v0ATcQa",
        "colab_type": "code",
        "colab": {
          "base_uri": "https://localhost:8080/",
          "height": 197
        },
        "outputId": "e5b7ad48-1f9d-44f4-d723-4110c4f66ba2"
      },
      "source": [
        "num=data1.groupby(['Year','Month','date'])['Hour'].agg(['count'])\n",
        "num.reset_index(inplace=True)\n",
        "num.head()#count column shows how many hours we have data for in that day; #the mode is 12 hr\n",
        "#alternatively we could do imputation instead of dropping the data"
      ],
      "execution_count": 164,
      "outputs": [
        {
          "output_type": "execute_result",
          "data": {
            "text/html": [
              "<div>\n",
              "<style scoped>\n",
              "    .dataframe tbody tr th:only-of-type {\n",
              "        vertical-align: middle;\n",
              "    }\n",
              "\n",
              "    .dataframe tbody tr th {\n",
              "        vertical-align: top;\n",
              "    }\n",
              "\n",
              "    .dataframe thead th {\n",
              "        text-align: right;\n",
              "    }\n",
              "</style>\n",
              "<table border=\"1\" class=\"dataframe\">\n",
              "  <thead>\n",
              "    <tr style=\"text-align: right;\">\n",
              "      <th></th>\n",
              "      <th>Year</th>\n",
              "      <th>Month</th>\n",
              "      <th>date</th>\n",
              "      <th>count</th>\n",
              "    </tr>\n",
              "  </thead>\n",
              "  <tbody>\n",
              "    <tr>\n",
              "      <th>0</th>\n",
              "      <td>2019</td>\n",
              "      <td>1</td>\n",
              "      <td>3</td>\n",
              "      <td>10</td>\n",
              "    </tr>\n",
              "    <tr>\n",
              "      <th>1</th>\n",
              "      <td>2019</td>\n",
              "      <td>1</td>\n",
              "      <td>4</td>\n",
              "      <td>8</td>\n",
              "    </tr>\n",
              "    <tr>\n",
              "      <th>2</th>\n",
              "      <td>2019</td>\n",
              "      <td>1</td>\n",
              "      <td>5</td>\n",
              "      <td>11</td>\n",
              "    </tr>\n",
              "    <tr>\n",
              "      <th>3</th>\n",
              "      <td>2019</td>\n",
              "      <td>1</td>\n",
              "      <td>6</td>\n",
              "      <td>9</td>\n",
              "    </tr>\n",
              "    <tr>\n",
              "      <th>4</th>\n",
              "      <td>2019</td>\n",
              "      <td>1</td>\n",
              "      <td>7</td>\n",
              "      <td>13</td>\n",
              "    </tr>\n",
              "  </tbody>\n",
              "</table>\n",
              "</div>"
            ],
            "text/plain": [
              "   Year  Month  date  count\n",
              "0  2019      1     3     10\n",
              "1  2019      1     4      8\n",
              "2  2019      1     5     11\n",
              "3  2019      1     6      9\n",
              "4  2019      1     7     13"
            ]
          },
          "metadata": {
            "tags": []
          },
          "execution_count": 164
        }
      ]
    },
    {
      "cell_type": "code",
      "metadata": {
        "id": "_m8hKekgTVkz",
        "colab_type": "code",
        "colab": {}
      },
      "source": [
        "num=num[num['count']==12] #keep only dates where we have 12h of open time"
      ],
      "execution_count": 0,
      "outputs": []
    },
    {
      "cell_type": "code",
      "metadata": {
        "id": "x2lj0R-NVLdV",
        "colab_type": "code",
        "colab": {}
      },
      "source": [
        "data2=num.merge(data1, left_on=['Year', 'Month','date'], right_on=['Year', 'Month','date']) #one to many join"
      ],
      "execution_count": 0,
      "outputs": []
    },
    {
      "cell_type": "markdown",
      "metadata": {
        "id": "26E7Tkm9WB91",
        "colab_type": "text"
      },
      "source": [
        "The new df (data2) is of the correct shape. For each date in num, there are 12 hours of data. The final df should have 12 x242= 2904"
      ]
    },
    {
      "cell_type": "code",
      "metadata": {
        "id": "1OjHsVMrV6CF",
        "colab_type": "code",
        "colab": {
          "base_uri": "https://localhost:8080/",
          "height": 34
        },
        "outputId": "764abc7f-19f3-409b-cf91-90eab1e63535"
      },
      "source": [
        "data2.shape"
      ],
      "execution_count": 168,
      "outputs": [
        {
          "output_type": "execute_result",
          "data": {
            "text/plain": [
              "(2904, 13)"
            ]
          },
          "metadata": {
            "tags": []
          },
          "execution_count": 168
        }
      ]
    },
    {
      "cell_type": "code",
      "metadata": {
        "id": "CyldyR2AUJtl",
        "colab_type": "code",
        "colab": {
          "base_uri": "https://localhost:8080/",
          "height": 34
        },
        "outputId": "50034a2b-db7b-4546-c70a-1d383bd83588"
      },
      "source": [
        "num.shape"
      ],
      "execution_count": 169,
      "outputs": [
        {
          "output_type": "execute_result",
          "data": {
            "text/plain": [
              "(242, 4)"
            ]
          },
          "metadata": {
            "tags": []
          },
          "execution_count": 169
        }
      ]
    },
    {
      "cell_type": "code",
      "metadata": {
        "id": "fPzkMnxxrBdQ",
        "colab_type": "code",
        "colab": {}
      },
      "source": [
        "y=data2['Gross Sales'] \n",
        "X= data2.drop(['Gross Sales'],axis=1)\n",
        "X=X.reindex(sorted(X.columns),axis=1) #put in alphabetical order\n",
        "X.sort_values(['Year', 'Month','date','Hour'], ascending=[True]*4, inplace=True)"
      ],
      "execution_count": 0,
      "outputs": []
    },
    {
      "cell_type": "code",
      "metadata": {
        "id": "JuE_qXspAEZ0",
        "colab_type": "code",
        "outputId": "1372fd42-0bc8-468a-ecfd-ed657396852e",
        "colab": {
          "base_uri": "https://localhost:8080/",
          "height": 34
        }
      },
      "source": [
        "y.shape"
      ],
      "execution_count": 172,
      "outputs": [
        {
          "output_type": "execute_result",
          "data": {
            "text/plain": [
              "(2904,)"
            ]
          },
          "metadata": {
            "tags": []
          },
          "execution_count": 172
        }
      ]
    },
    {
      "cell_type": "code",
      "metadata": {
        "id": "O22kRByLBMJG",
        "colab_type": "code",
        "colab": {}
      },
      "source": [
        "newx=list(range(X.shape[0])) #artificial x-values to replace the raw date"
      ],
      "execution_count": 0,
      "outputs": []
    },
    {
      "cell_type": "code",
      "metadata": {
        "id": "oMqtcgft9pJJ",
        "colab_type": "code",
        "outputId": "54273080-fc01-451f-c64c-9e308eaddd3f",
        "colab": {
          "base_uri": "https://localhost:8080/",
          "height": 34
        }
      },
      "source": [
        "# split into sample timesteps\n",
        "samples = list()\n",
        "length = 12 #length of each time step (or time sequence representing the 12 hours open each day)\n",
        "timesteps= int(X.shape[0]/length) #num\n",
        "\n",
        "for i in range(0,len(y),length):\n",
        "\t# grab from i to i + length\n",
        "  sample = y[i:i+length]\n",
        "  samples.append(sample)\n",
        "print(len(samples))"
      ],
      "execution_count": 175,
      "outputs": [
        {
          "output_type": "stream",
          "text": [
            "242\n"
          ],
          "name": "stdout"
        }
      ]
    },
    {
      "cell_type": "markdown",
      "metadata": {
        "id": "hg2PjaElWvG-",
        "colab_type": "text"
      },
      "source": [
        "This 242 represents the 242 work days (each day composed of a sequence of 12h) that we're training/testing on."
      ]
    },
    {
      "cell_type": "code",
      "metadata": {
        "id": "B63cLGlZBmCm",
        "colab_type": "code",
        "outputId": "2f69d275-46df-4266-8115-1331dc02c36a",
        "colab": {
          "base_uri": "https://localhost:8080/",
          "height": 34
        }
      },
      "source": [
        "#reformat data into array and add 3rd filler dimension needed for lstm model\n",
        "data=np.array(samples)\n",
        "\n",
        "data=data.reshape((len(samples), length,1)) #length is the timestep size\n",
        "data.shape\n"
      ],
      "execution_count": 176,
      "outputs": [
        {
          "output_type": "execute_result",
          "data": {
            "text/plain": [
              "(242, 12, 1)"
            ]
          },
          "metadata": {
            "tags": []
          },
          "execution_count": 176
        }
      ]
    },
    {
      "cell_type": "code",
      "metadata": {
        "id": "9M1jydCbt-LC",
        "colab_type": "code",
        "colab": {}
      },
      "source": [
        "seq_length=length # length of a sequence\n",
        "\n",
        "model = tf.keras.Sequential()\n",
        "# Add a LSTM layer with 128 internal units.\n",
        "model.add(layers.LSTM(seq_length, dropout=0.2, recurrent_dropout=0.2, input_dim=1)) #input dim :# y columns\n",
        "model.add(layers.Dense(seq_length))\n",
        "\n",
        "model.compile(loss='mean_squared_error', optimizer='adam')\n",
        "monitor= EarlyStopping(monitor='val_loss', min_delta=1e-3, patience=5, verbose=1, mode='auto')\n",
        "#model.summary()"
      ],
      "execution_count": 0,
      "outputs": []
    },
    {
      "cell_type": "code",
      "metadata": {
        "id": "l1GEcN9GE-Rv",
        "colab_type": "code",
        "colab": {}
      },
      "source": [
        "ntrain= int(0.8*len(y)) #number of rows to train on , 80-20 train-test split\n",
        "\n",
        "ytrain=data[:ntrain]\n",
        "ytest= data[18:]\n"
      ],
      "execution_count": 0,
      "outputs": []
    },
    {
      "cell_type": "code",
      "metadata": {
        "id": "Brd3c4CeFZjW",
        "colab_type": "code",
        "colab": {}
      },
      "source": [
        "xtrain=np.array(range(len(ytrain)))\n",
        "xtrain=xtrain.reshape(len(xtrain),1,1)\n",
        "\n",
        "xtest=np.array(range(len(ytest)))\n",
        "xtest=xtest.reshape(len(xtest),1,1)"
      ],
      "execution_count": 0,
      "outputs": []
    },
    {
      "cell_type": "code",
      "metadata": {
        "id": "1rthTe9rt-OA",
        "colab_type": "code",
        "colab": {}
      },
      "source": [
        "epoch=1000\n",
        "\n",
        "history=model.fit(xtrain, ytrain, validation_data=(xtest, ytest),batch_size=5, callbacks=[monitor], verbose=2, epochs= epoch)"
      ],
      "execution_count": 0,
      "outputs": []
    },
    {
      "cell_type": "code",
      "metadata": {
        "id": "qnL3hxl4c_sW",
        "colab_type": "code",
        "colab": {
          "base_uri": "https://localhost:8080/",
          "height": 34
        },
        "outputId": "8c62fe24-108a-4f10-d6f2-e7585775dff5"
      },
      "source": [
        "len(history.history['loss'])"
      ],
      "execution_count": 202,
      "outputs": [
        {
          "output_type": "execute_result",
          "data": {
            "text/plain": [
              "366"
            ]
          },
          "metadata": {
            "tags": []
          },
          "execution_count": 202
        }
      ]
    },
    {
      "cell_type": "code",
      "metadata": {
        "id": "tINdYdcia1Ks",
        "colab_type": "code",
        "colab": {
          "base_uri": "https://localhost:8080/",
          "height": 296
        },
        "outputId": "97c4bef0-1ec6-4bdd-d083-5bf8d0644edb"
      },
      "source": [
        "total_epochs=len(history.history['loss'])\n",
        "\n",
        "\n",
        "#plt.plot(range(total_epochs), history.history['loss'])\n",
        "plt.plot(range(total_epochs), history.history['val_loss'])\n",
        "plt.legend(['test set MSE'])\n",
        "plt.xlabel('Epoch')\n",
        "plt.ylabel('MSE')"
      ],
      "execution_count": 209,
      "outputs": [
        {
          "output_type": "execute_result",
          "data": {
            "text/plain": [
              "Text(0, 0.5, 'MSE')"
            ]
          },
          "metadata": {
            "tags": []
          },
          "execution_count": 209
        },
        {
          "output_type": "display_data",
          "data": {
            "image/png": "[encoded data removed]",
            "text/plain": [
              "<Figure size 432x288 with 1 Axes>"
            ]
          },
          "metadata": {
            "tags": []
          }
        }
      ]
    },
    {
      "cell_type": "code",
      "metadata": {
        "id": "flFzZqeQt-Q4",
        "colab_type": "code",
        "colab": {}
      },
      "source": [
        "ypred=model.predict(xtest)\n",
        "ypred_flat= [item for sublist in ypred for item in sublist]\n",
        "\n",
        "ytest_flat= [item for sublist in ypred for item in sublist]\n",
        "#len(ypred)"
      ],
      "execution_count": 0,
      "outputs": []
    },
    {
      "cell_type": "code",
      "metadata": {
        "id": "VE8jA2O_JDvs",
        "colab_type": "code",
        "colab": {}
      },
      "source": [
        "ypred_flat=ypred.reshape(ypred.shape[0]*ypred.shape[1],1)\n",
        "ytest_flat=ytest.reshape(ytest.shape[0]*ytest.shape[1],1)"
      ],
      "execution_count": 0,
      "outputs": []
    },
    {
      "cell_type": "code",
      "metadata": {
        "id": "4H90EAtDRIdm",
        "colab_type": "code",
        "outputId": "0c41279b-9765-422c-8b56-83a8e60ae627",
        "colab": {
          "base_uri": "https://localhost:8080/",
          "height": 282
        }
      },
      "source": [
        "plt.plot(range(len(ypred_flat[:120])), ypred_flat[:120])\n",
        "plt.plot(range(len(ypred_flat[:120])), ytest_flat[:120])\n",
        "plt.legend(['Real','Predicted'])"
      ],
      "execution_count": 189,
      "outputs": [
        {
          "output_type": "execute_result",
          "data": {
            "text/plain": [
              "<matplotlib.legend.Legend at 0x7f0175c32518>"
            ]
          },
          "metadata": {
            "tags": []
          },
          "execution_count": 189
        },
        {
          "output_type": "display_data",
          "data": {
            "image/png": "[encoded data removed]",
            "text/plain": [
              "<Figure size 432x288 with 1 Axes>"
            ]
          },
          "metadata": {
            "tags": []
          }
        }
      ]
    },
    {
      "cell_type": "markdown",
      "metadata": {
        "id": "IWPptDO9Zh_L",
        "colab_type": "text"
      },
      "source": [
        "#Conclusion\n",
        "This model performance is comparable to the xgboost model in this case. It could be improved by adding additional factors. Or, the time sequence could be extended to a full week ( 12h/day x 7days) given there is an obvious trend over a 7 day period."
      ]
    },
    {
      "cell_type": "code",
      "metadata": {
        "id": "XCpHgRBQZZIh",
        "colab_type": "code",
        "colab": {}
      },
      "source": [
        ""
      ],
      "execution_count": 0,
      "outputs": []
    }
  ]
}